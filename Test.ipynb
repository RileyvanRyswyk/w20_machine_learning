{
  "nbformat": 4,
  "nbformat_minor": 0,
  "metadata": {
    "colab": {
      "name": "Test.ipynb",
      "provenance": [],
      "collapsed_sections": [],
      "authorship_tag": "ABX9TyNl7jS15JlzRzdXmS/XuhF7",
      "include_colab_link": true
    },
    "kernelspec": {
      "name": "python3",
      "display_name": "Python 3"
    }
  },
  "cells": [
    {
      "cell_type": "markdown",
      "metadata": {
        "id": "view-in-github",
        "colab_type": "text"
      },
      "source": [
        "<a href=\"https://colab.research.google.com/github/RileyvanRyswyk/w20_machine_learning/blob/main/Test.ipynb\" target=\"_parent\"><img src=\"https://colab.research.google.com/assets/colab-badge.svg\" alt=\"Open In Colab\"/></a>"
      ]
    },
    {
      "cell_type": "code",
      "metadata": {
        "id": "oWFlWfl_5MAJ",
        "colab": {
          "base_uri": "https://localhost:8080/"
        },
        "outputId": "342e492b-b4fc-48ad-d152-2803c167da19"
      },
      "source": [
        "from google.colab import drive\n",
        "drive.mount('/content/gdrive')"
      ],
      "execution_count": null,
      "outputs": [
        {
          "output_type": "stream",
          "text": [
            "Mounted at /content/gdrive\n"
          ],
          "name": "stdout"
        }
      ]
    },
    {
      "cell_type": "code",
      "metadata": {
        "colab": {
          "base_uri": "https://localhost:8080/"
        },
        "id": "5KWy21Y07Gxb",
        "outputId": "30b48b1a-76e0-4f0d-d6fa-b464e91a447c"
      },
      "source": [
        "%cd gdrive/My Drive/colab/ml_2020\n"
      ],
      "execution_count": null,
      "outputs": [
        {
          "output_type": "stream",
          "text": [
            "/content/gdrive/My Drive/colab/ml_2020\n"
          ],
          "name": "stdout"
        }
      ]
    },
    {
      "cell_type": "code",
      "metadata": {
        "colab": {
          "base_uri": "https://localhost:8080/"
        },
        "id": "i4ArUQhN8Wdu",
        "outputId": "8ab24b72-483d-4d03-adf7-a2740b28f4a9"
      },
      "source": [
        "! git clone https://github.com/RileyvanRyswyk/w20_machine_learning"
      ],
      "execution_count": null,
      "outputs": [
        {
          "output_type": "stream",
          "text": [
            "Cloning into 'w20_machine_learning'...\n",
            "remote: Enumerating objects: 111, done.\u001b[K\n",
            "remote: Counting objects: 100% (111/111), done.\u001b[K\n",
            "remote: Compressing objects: 100% (92/92), done.\u001b[K\n",
            "remote: Total 111 (delta 26), reused 76 (delta 18), pack-reused 0\u001b[K\n",
            "Receiving objects: 100% (111/111), 7.76 MiB | 16.32 MiB/s, done.\n",
            "Resolving deltas: 100% (26/26), done.\n"
          ],
          "name": "stdout"
        }
      ]
    },
    {
      "cell_type": "code",
      "metadata": {
        "colab": {
          "base_uri": "https://localhost:8080/"
        },
        "id": "nWLar1AU88S5",
        "outputId": "69292ddb-a2d2-4681-88d2-4b15a2d1eee3"
      },
      "source": [
        "%cd w20_machine_learning/exercise_2/q1/"
      ],
      "execution_count": null,
      "outputs": [
        {
          "output_type": "stream",
          "text": [
            "/content/gdrive/My Drive/colab/ml_2020/w20_machine_learning/exercise_2/q1\n"
          ],
          "name": "stdout"
        }
      ]
    },
    {
      "cell_type": "code",
      "metadata": {
        "colab": {
          "base_uri": "https://localhost:8080/"
        },
        "id": "Mg43gItW9Her",
        "outputId": "2a32fc63-5f01-4ae0-ba7c-7d86502975c9"
      },
      "source": [
        "! python apply.py"
      ],
      "execution_count": null,
      "outputs": [
        {
          "output_type": "stream",
          "text": [
            "Accuracy on train set: 0.9736842105263158\n",
            "<Figure size 640x480 with 1 Axes>\n",
            "<Figure size 640x480 with 1 Axes>\n",
            "Accuracy on test set: \t 0.7837837837837838\n",
            "\n",
            "Adding outliers...\n",
            "Accuracy on train set: 0.925\n",
            "<Figure size 640x480 with 1 Axes>\n",
            "Accuracy on test set: \t 0.6756756756756757\n",
            "\n",
            "<Figure size 640x480 with 1 Axes>\n"
          ],
          "name": "stdout"
        }
      ]
    }
  ]
}