{
  "nbformat": 4,
  "nbformat_minor": 0,
  "metadata": {
    "colab": {
      "name": "Test.ipynb",
      "provenance": [],
      "collapsed_sections": [],
      "mount_file_id": "1CC79o8tz_BP0i7zjneAhP-CCjhQb_RGv",
      "authorship_tag": "ABX9TyNFggTktHugfUOyI/HgUio3",
      "include_colab_link": true
    },
    "kernelspec": {
      "name": "python3",
      "display_name": "Python 3"
    }
  },
  "cells": [
    {
      "cell_type": "markdown",
      "metadata": {
        "id": "view-in-github",
        "colab_type": "text"
      },
      "source": [
        "<a href=\"https://colab.research.google.com/github/RileyvanRyswyk/w20_machine_learning/blob/main/Test.ipynb\" target=\"_parent\"><img src=\"https://colab.research.google.com/assets/colab-badge.svg\" alt=\"Open In Colab\"/></a>"
      ]
    },
    {
      "cell_type": "code",
      "metadata": {
        "id": "oWFlWfl_5MAJ",
        "colab": {
          "base_uri": "https://localhost:8080/"
        },
        "outputId": "e3b4b285-4d45-4f4a-dda0-fd4cbf84dce2"
      },
      "source": [
        "from google.colab import drive\n",
        "drive.mount('/content/gdrive')"
      ],
      "execution_count": 1,
      "outputs": [
        {
          "output_type": "stream",
          "text": [
            "Mounted at /content/gdrive\n"
          ],
          "name": "stdout"
        }
      ]
    },
    {
      "cell_type": "code",
      "metadata": {
        "colab": {
          "base_uri": "https://localhost:8080/"
        },
        "id": "5KWy21Y07Gxb",
        "outputId": "ea2c4e36-9692-4cf3-8690-bc0d53194fea"
      },
      "source": [
        "%cd gdrive/MyDrive/colab/w20_machine_learning"
      ],
      "execution_count": 3,
      "outputs": [
        {
          "output_type": "stream",
          "text": [
            "/content/gdrive/MyDrive/colab/w20_machine_learning\n"
          ],
          "name": "stdout"
        }
      ]
    },
    {
      "cell_type": "code",
      "metadata": {
        "colab": {
          "base_uri": "https://localhost:8080/"
        },
        "id": "i4ArUQhN8Wdu",
        "outputId": "f436b765-4bfb-406d-c714-7086de94001f"
      },
      "source": [
        "! git pull"
      ],
      "execution_count": 4,
      "outputs": [
        {
          "output_type": "stream",
          "text": [
            "remote: Enumerating objects: 11, done.\u001b[K\n",
            "remote: Counting objects:   9% (1/11)\u001b[K\rremote: Counting objects:  18% (2/11)\u001b[K\rremote: Counting objects:  27% (3/11)\u001b[K\rremote: Counting objects:  36% (4/11)\u001b[K\rremote: Counting objects:  45% (5/11)\u001b[K\rremote: Counting objects:  54% (6/11)\u001b[K\rremote: Counting objects:  63% (7/11)\u001b[K\rremote: Counting objects:  72% (8/11)\u001b[K\rremote: Counting objects:  81% (9/11)\u001b[K\rremote: Counting objects:  90% (10/11)\u001b[K\rremote: Counting objects: 100% (11/11)\u001b[K\rremote: Counting objects: 100% (11/11), done.\u001b[K\n",
            "remote: Compressing objects:  16% (1/6)\u001b[K\rremote: Compressing objects:  33% (2/6)\u001b[K\rremote: Compressing objects:  50% (3/6)\u001b[K\rremote: Compressing objects:  66% (4/6)\u001b[K\rremote: Compressing objects:  83% (5/6)\u001b[K\rremote: Compressing objects: 100% (6/6)\u001b[K\rremote: Compressing objects: 100% (6/6), done.\u001b[K\n",
            "remote: Total 8 (delta 3), reused 5 (delta 2), pack-reused 0\u001b[K\n",
            "Unpacking objects:  12% (1/8)   \rUnpacking objects:  25% (2/8)   \rUnpacking objects:  37% (3/8)   \rUnpacking objects:  50% (4/8)   \rUnpacking objects:  62% (5/8)   \rUnpacking objects:  75% (6/8)   \rUnpacking objects:  87% (7/8)   \rUnpacking objects: 100% (8/8)   \rUnpacking objects: 100% (8/8), done.\n",
            "From https://github.com/RileyvanRyswyk/w20_machine_learning\n",
            "   87ebafc..8504e1a  main       -> origin/main\n",
            "Updating 87ebafc..8504e1a\n",
            "Fast-forward\n",
            " Test.ipynb                | 161 \u001b[32m++++++++++++++++++++++++++++++++++++++++++++++\u001b[m\n",
            " exercise_2/q1/apply.ipynb |   1 \u001b[32m+\u001b[m\n",
            " 2 files changed, 162 insertions(+)\n",
            " create mode 100644 Test.ipynb\n",
            " create mode 100644 exercise_2/q1/apply.ipynb\n"
          ],
          "name": "stdout"
        }
      ]
    },
    {
      "cell_type": "code",
      "metadata": {
        "colab": {
          "base_uri": "https://localhost:8080/"
        },
        "id": "nWLar1AU88S5",
        "outputId": "daaadd8e-78d9-4f99-aa91-a0844417fcae"
      },
      "source": [
        "%cd exercise_2/q1/"
      ],
      "execution_count": 9,
      "outputs": [
        {
          "output_type": "stream",
          "text": [
            "exercise_1  exercise_2\tREADME.md  Test.ipynb\n",
            "/content/gdrive/My Drive/colab/w20_machine_learning/exercise_2/q1\n"
          ],
          "name": "stdout"
        }
      ]
    },
    {
      "cell_type": "code",
      "metadata": {
        "colab": {
          "base_uri": "https://localhost:8080/"
        },
        "id": "Mg43gItW9Her",
        "outputId": "006843f1-23b6-4461-e998-85cca0c13016"
      },
      "source": [
        "! python apply.py"
      ],
      "execution_count": 10,
      "outputs": [
        {
          "output_type": "stream",
          "text": [
            "Accuracy on train set: 0.9736842105263158\n",
            "<Figure size 640x480 with 1 Axes>\n",
            "<Figure size 640x480 with 1 Axes>\n",
            "Accuracy on test set: \t 0.7837837837837838\n",
            "\n",
            "Adding outliers...\n",
            "Accuracy on train set: 0.925\n",
            "<Figure size 640x480 with 1 Axes>\n",
            "Accuracy on test set: \t 0.6756756756756757\n",
            "\n",
            "<Figure size 640x480 with 1 Axes>\n"
          ],
          "name": "stdout"
        }
      ]
    }
  ]
}